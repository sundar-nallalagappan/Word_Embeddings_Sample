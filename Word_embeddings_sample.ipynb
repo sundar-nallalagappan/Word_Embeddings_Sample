{
  "nbformat": 4,
  "nbformat_minor": 0,
  "metadata": {
    "colab": {
      "provenance": []
    },
    "kernelspec": {
      "name": "python3",
      "display_name": "Python 3"
    },
    "language_info": {
      "name": "python"
    }
  },
  "cells": [
    {
      "cell_type": "code",
      "execution_count": 22,
      "metadata": {
        "colab": {
          "base_uri": "https://localhost:8080/"
        },
        "id": "RpxAGMyr4y8m",
        "outputId": "cc550b76-9267-49d5-e2b3-706d6674f391"
      },
      "outputs": [
        {
          "output_type": "stream",
          "name": "stdout",
          "text": [
            "      \n"
          ]
        }
      ],
      "source": [
        "print(\"      \")"
      ]
    },
    {
      "cell_type": "code",
      "source": [
        "!pip install tensorflow-gpu"
      ],
      "metadata": {
        "colab": {
          "base_uri": "https://localhost:8080/"
        },
        "id": "KMKsqIXz42l_",
        "outputId": "c4aaf162-a5e7-4afc-bc31-9f4a93f0a5cc"
      },
      "execution_count": 23,
      "outputs": [
        {
          "output_type": "stream",
          "name": "stdout",
          "text": [
            "Looking in indexes: https://pypi.org/simple, https://us-python.pkg.dev/colab-wheels/public/simple/\n",
            "Requirement already satisfied: tensorflow-gpu in /usr/local/lib/python3.7/dist-packages (2.10.0)\n",
            "Requirement already satisfied: numpy>=1.20 in /usr/local/lib/python3.7/dist-packages (from tensorflow-gpu) (1.21.6)\n",
            "Requirement already satisfied: grpcio<2.0,>=1.24.3 in /usr/local/lib/python3.7/dist-packages (from tensorflow-gpu) (1.48.1)\n",
            "Requirement already satisfied: keras-preprocessing>=1.1.1 in /usr/local/lib/python3.7/dist-packages (from tensorflow-gpu) (1.1.2)\n",
            "Requirement already satisfied: astunparse>=1.6.0 in /usr/local/lib/python3.7/dist-packages (from tensorflow-gpu) (1.6.3)\n",
            "Requirement already satisfied: wrapt>=1.11.0 in /usr/local/lib/python3.7/dist-packages (from tensorflow-gpu) (1.14.1)\n",
            "Requirement already satisfied: termcolor>=1.1.0 in /usr/local/lib/python3.7/dist-packages (from tensorflow-gpu) (1.1.0)\n",
            "Requirement already satisfied: google-pasta>=0.1.1 in /usr/local/lib/python3.7/dist-packages (from tensorflow-gpu) (0.2.0)\n",
            "Requirement already satisfied: opt-einsum>=2.3.2 in /usr/local/lib/python3.7/dist-packages (from tensorflow-gpu) (3.3.0)\n",
            "Requirement already satisfied: tensorflow-io-gcs-filesystem>=0.23.1 in /usr/local/lib/python3.7/dist-packages (from tensorflow-gpu) (0.26.0)\n",
            "Requirement already satisfied: protobuf<3.20,>=3.9.2 in /usr/local/lib/python3.7/dist-packages (from tensorflow-gpu) (3.17.3)\n",
            "Requirement already satisfied: keras<2.11,>=2.10.0 in /usr/local/lib/python3.7/dist-packages (from tensorflow-gpu) (2.10.0)\n",
            "Requirement already satisfied: gast<=0.4.0,>=0.2.1 in /usr/local/lib/python3.7/dist-packages (from tensorflow-gpu) (0.4.0)\n",
            "Requirement already satisfied: packaging in /usr/local/lib/python3.7/dist-packages (from tensorflow-gpu) (21.3)\n",
            "Requirement already satisfied: libclang>=13.0.0 in /usr/local/lib/python3.7/dist-packages (from tensorflow-gpu) (14.0.6)\n",
            "Requirement already satisfied: tensorboard<2.11,>=2.10 in /usr/local/lib/python3.7/dist-packages (from tensorflow-gpu) (2.10.1)\n",
            "Requirement already satisfied: typing-extensions>=3.6.6 in /usr/local/lib/python3.7/dist-packages (from tensorflow-gpu) (4.1.1)\n",
            "Requirement already satisfied: tensorflow-estimator<2.11,>=2.10.0 in /usr/local/lib/python3.7/dist-packages (from tensorflow-gpu) (2.10.0)\n",
            "Requirement already satisfied: absl-py>=1.0.0 in /usr/local/lib/python3.7/dist-packages (from tensorflow-gpu) (1.2.0)\n",
            "Requirement already satisfied: six>=1.12.0 in /usr/local/lib/python3.7/dist-packages (from tensorflow-gpu) (1.15.0)\n",
            "Requirement already satisfied: flatbuffers>=2.0 in /usr/local/lib/python3.7/dist-packages (from tensorflow-gpu) (2.0.7)\n",
            "Requirement already satisfied: h5py>=2.9.0 in /usr/local/lib/python3.7/dist-packages (from tensorflow-gpu) (3.1.0)\n",
            "Requirement already satisfied: setuptools in /usr/local/lib/python3.7/dist-packages (from tensorflow-gpu) (57.4.0)\n",
            "Requirement already satisfied: wheel<1.0,>=0.23.0 in /usr/local/lib/python3.7/dist-packages (from astunparse>=1.6.0->tensorflow-gpu) (0.37.1)\n",
            "Requirement already satisfied: cached-property in /usr/local/lib/python3.7/dist-packages (from h5py>=2.9.0->tensorflow-gpu) (1.5.2)\n",
            "Requirement already satisfied: google-auth<3,>=1.6.3 in /usr/local/lib/python3.7/dist-packages (from tensorboard<2.11,>=2.10->tensorflow-gpu) (1.35.0)\n",
            "Requirement already satisfied: requests<3,>=2.21.0 in /usr/local/lib/python3.7/dist-packages (from tensorboard<2.11,>=2.10->tensorflow-gpu) (2.23.0)\n",
            "Requirement already satisfied: google-auth-oauthlib<0.5,>=0.4.1 in /usr/local/lib/python3.7/dist-packages (from tensorboard<2.11,>=2.10->tensorflow-gpu) (0.4.6)\n",
            "Requirement already satisfied: markdown>=2.6.8 in /usr/local/lib/python3.7/dist-packages (from tensorboard<2.11,>=2.10->tensorflow-gpu) (3.4.1)\n",
            "Requirement already satisfied: werkzeug>=1.0.1 in /usr/local/lib/python3.7/dist-packages (from tensorboard<2.11,>=2.10->tensorflow-gpu) (1.0.1)\n",
            "Requirement already satisfied: tensorboard-data-server<0.7.0,>=0.6.0 in /usr/local/lib/python3.7/dist-packages (from tensorboard<2.11,>=2.10->tensorflow-gpu) (0.6.1)\n",
            "Requirement already satisfied: tensorboard-plugin-wit>=1.6.0 in /usr/local/lib/python3.7/dist-packages (from tensorboard<2.11,>=2.10->tensorflow-gpu) (1.8.1)\n",
            "Requirement already satisfied: cachetools<5.0,>=2.0.0 in /usr/local/lib/python3.7/dist-packages (from google-auth<3,>=1.6.3->tensorboard<2.11,>=2.10->tensorflow-gpu) (4.2.4)\n",
            "Requirement already satisfied: rsa<5,>=3.1.4 in /usr/local/lib/python3.7/dist-packages (from google-auth<3,>=1.6.3->tensorboard<2.11,>=2.10->tensorflow-gpu) (4.9)\n",
            "Requirement already satisfied: pyasn1-modules>=0.2.1 in /usr/local/lib/python3.7/dist-packages (from google-auth<3,>=1.6.3->tensorboard<2.11,>=2.10->tensorflow-gpu) (0.2.8)\n",
            "Requirement already satisfied: requests-oauthlib>=0.7.0 in /usr/local/lib/python3.7/dist-packages (from google-auth-oauthlib<0.5,>=0.4.1->tensorboard<2.11,>=2.10->tensorflow-gpu) (1.3.1)\n",
            "Requirement already satisfied: importlib-metadata>=4.4 in /usr/local/lib/python3.7/dist-packages (from markdown>=2.6.8->tensorboard<2.11,>=2.10->tensorflow-gpu) (4.12.0)\n",
            "Requirement already satisfied: zipp>=0.5 in /usr/local/lib/python3.7/dist-packages (from importlib-metadata>=4.4->markdown>=2.6.8->tensorboard<2.11,>=2.10->tensorflow-gpu) (3.8.1)\n",
            "Requirement already satisfied: pyasn1<0.5.0,>=0.4.6 in /usr/local/lib/python3.7/dist-packages (from pyasn1-modules>=0.2.1->google-auth<3,>=1.6.3->tensorboard<2.11,>=2.10->tensorflow-gpu) (0.4.8)\n",
            "Requirement already satisfied: certifi>=2017.4.17 in /usr/local/lib/python3.7/dist-packages (from requests<3,>=2.21.0->tensorboard<2.11,>=2.10->tensorflow-gpu) (2022.6.15)\n",
            "Requirement already satisfied: idna<3,>=2.5 in /usr/local/lib/python3.7/dist-packages (from requests<3,>=2.21.0->tensorboard<2.11,>=2.10->tensorflow-gpu) (2.10)\n",
            "Requirement already satisfied: urllib3!=1.25.0,!=1.25.1,<1.26,>=1.21.1 in /usr/local/lib/python3.7/dist-packages (from requests<3,>=2.21.0->tensorboard<2.11,>=2.10->tensorflow-gpu) (1.24.3)\n",
            "Requirement already satisfied: chardet<4,>=3.0.2 in /usr/local/lib/python3.7/dist-packages (from requests<3,>=2.21.0->tensorboard<2.11,>=2.10->tensorflow-gpu) (3.0.4)\n",
            "Requirement already satisfied: oauthlib>=3.0.0 in /usr/local/lib/python3.7/dist-packages (from requests-oauthlib>=0.7.0->google-auth-oauthlib<0.5,>=0.4.1->tensorboard<2.11,>=2.10->tensorflow-gpu) (3.2.0)\n",
            "Requirement already satisfied: pyparsing!=3.0.5,>=2.0.2 in /usr/local/lib/python3.7/dist-packages (from packaging->tensorflow-gpu) (3.0.9)\n"
          ]
        }
      ]
    },
    {
      "cell_type": "markdown",
      "source": [
        "#### Import the required libraries"
      ],
      "metadata": {
        "id": "LeyqT_0-6ntx"
      }
    },
    {
      "cell_type": "code",
      "source": [
        "import tensorflow as tf\n",
        "from tensorflow.keras.preprocessing.text import one_hot\n",
        "print(tf.__version__)\n",
        "\n",
        "from tensorflow.keras.layers import Embedding\n",
        "from tensorflow.keras.preprocessing.sequence import pad_sequences\n",
        "from tensorflow.keras.models import Sequential\n",
        "import numpy as np"
      ],
      "metadata": {
        "colab": {
          "base_uri": "https://localhost:8080/"
        },
        "id": "uoQSRGWw446R",
        "outputId": "1e3d01cc-93ec-491f-c9b2-a946d54ef11c"
      },
      "execution_count": 24,
      "outputs": [
        {
          "output_type": "stream",
          "name": "stdout",
          "text": [
            "2.10.0\n"
          ]
        }
      ]
    },
    {
      "cell_type": "markdown",
      "source": [
        "##### Samples sentences"
      ],
      "metadata": {
        "id": "GZt_TT6V6cOP"
      }
    },
    {
      "cell_type": "code",
      "source": [
        "### sentences\n",
        "sent=['the glass of milk',\n",
        "     'the glass of juice',\n",
        "     'the cup of tea',\n",
        "     'I am a good boy',\n",
        "     'I am a good developer',\n",
        "     'understand the meaning of words',\n",
        "     'your videos are good']\n",
        "\n",
        "print(sent)     "
      ],
      "metadata": {
        "colab": {
          "base_uri": "https://localhost:8080/"
        },
        "id": "6HmC-E775vYp",
        "outputId": "7b78f89a-5ed4-4087-8c0c-5b87c96750ba"
      },
      "execution_count": 4,
      "outputs": [
        {
          "output_type": "stream",
          "name": "stdout",
          "text": [
            "['the glass of milk', 'the glass of juice', 'the cup of tea', 'I am a good boy', 'I am a good developer', 'understand the meaning of words', 'your videos are good']\n"
          ]
        }
      ]
    },
    {
      "cell_type": "markdown",
      "source": [
        "#### Define the vocabulary size"
      ],
      "metadata": {
        "id": "CgDKNBj36fxy"
      }
    },
    {
      "cell_type": "code",
      "source": [
        "vocab_size=500"
      ],
      "metadata": {
        "id": "WmvwP3tq52HS"
      },
      "execution_count": 5,
      "outputs": []
    },
    {
      "cell_type": "code",
      "source": [
        "one_hot_repr = [one_hot(word, vocab_size) for word in sent]\n",
        "one_hot_repr"
      ],
      "metadata": {
        "colab": {
          "base_uri": "https://localhost:8080/"
        },
        "id": "5zP4KpYr6jJC",
        "outputId": "4596bbfd-9581-4d44-ac06-083eeba6e531"
      },
      "execution_count": 6,
      "outputs": [
        {
          "output_type": "execute_result",
          "data": {
            "text/plain": [
              "[[14, 398, 184, 306],\n",
              " [14, 398, 184, 162],\n",
              " [14, 29, 184, 461],\n",
              " [94, 267, 74, 210, 329],\n",
              " [94, 267, 74, 210, 204],\n",
              " [287, 14, 150, 184, 352],\n",
              " [394, 270, 161, 210]]"
            ]
          },
          "metadata": {},
          "execution_count": 6
        }
      ]
    },
    {
      "cell_type": "markdown",
      "source": [
        "#### Word embedding representation"
      ],
      "metadata": {
        "id": "O7dwyxp_pGJH"
      }
    },
    {
      "cell_type": "code",
      "source": [
        "### Pre-padding \n",
        "# Choose an arbitrary number - little more than the available sentence length\n",
        "sent_length = 10\n",
        "padded_docs = pad_sequences(sequences=one_hot_repr, maxlen=sent_length, padding='pre')\n",
        "padded_docs"
      ],
      "metadata": {
        "colab": {
          "base_uri": "https://localhost:8080/"
        },
        "id": "V2C3IgFs6v7L",
        "outputId": "4d59c83c-5e95-4231-91ab-e8ab1b2607e4"
      },
      "execution_count": 12,
      "outputs": [
        {
          "output_type": "execute_result",
          "data": {
            "text/plain": [
              "array([[  0,   0,   0,   0,   0,   0,  14, 398, 184, 306],\n",
              "       [  0,   0,   0,   0,   0,   0,  14, 398, 184, 162],\n",
              "       [  0,   0,   0,   0,   0,   0,  14,  29, 184, 461],\n",
              "       [  0,   0,   0,   0,   0,  94, 267,  74, 210, 329],\n",
              "       [  0,   0,   0,   0,   0,  94, 267,  74, 210, 204],\n",
              "       [  0,   0,   0,   0,   0, 287,  14, 150, 184, 352],\n",
              "       [  0,   0,   0,   0,   0,   0, 394, 270, 161, 210]], dtype=int32)"
            ]
          },
          "metadata": {},
          "execution_count": 12
        }
      ]
    },
    {
      "cell_type": "code",
      "source": [
        "### Choose an arbitrary value for dimensions - to represent each word in this dimension\n",
        "dim = 10"
      ],
      "metadata": {
        "id": "74TyHx1hpMTN"
      },
      "execution_count": 14,
      "outputs": []
    },
    {
      "cell_type": "code",
      "source": [
        "model = Sequential()\n",
        "model.add(Embedding(input_dim=vocab_size, output_dim=dim, input_length=sent_length))\n",
        "model.compile('adam', 'mse')"
      ],
      "metadata": {
        "id": "EayNRNTEqKXc"
      },
      "execution_count": 17,
      "outputs": []
    },
    {
      "cell_type": "code",
      "source": [
        "model.summary()"
      ],
      "metadata": {
        "colab": {
          "base_uri": "https://localhost:8080/"
        },
        "id": "ZXRu1gDtqJOD",
        "outputId": "20e7b635-50c4-4ef5-b0a2-ddc7004c8b65"
      },
      "execution_count": 18,
      "outputs": [
        {
          "output_type": "stream",
          "name": "stdout",
          "text": [
            "Model: \"sequential_2\"\n",
            "_________________________________________________________________\n",
            " Layer (type)                Output Shape              Param #   \n",
            "=================================================================\n",
            " embedding_1 (Embedding)     (None, 10, 10)            5000      \n",
            "                                                                 \n",
            "=================================================================\n",
            "Total params: 5,000\n",
            "Trainable params: 5,000\n",
            "Non-trainable params: 0\n",
            "_________________________________________________________________\n"
          ]
        }
      ]
    },
    {
      "cell_type": "code",
      "source": [
        "padded_docs[0]"
      ],
      "metadata": {
        "colab": {
          "base_uri": "https://localhost:8080/"
        },
        "id": "1Q96mjW9sI3u",
        "outputId": "c1e3b754-7a8f-4ea3-dee7-53c747e3e248"
      },
      "execution_count": 19,
      "outputs": [
        {
          "output_type": "execute_result",
          "data": {
            "text/plain": [
              "array([  0,   0,   0,   0,   0,   0,  14, 398, 184, 306], dtype=int32)"
            ]
          },
          "metadata": {},
          "execution_count": 19
        }
      ]
    },
    {
      "cell_type": "code",
      "source": [
        "model.predict(padded_docs[0])"
      ],
      "metadata": {
        "colab": {
          "base_uri": "https://localhost:8080/"
        },
        "id": "XSHLAgXRsPzV",
        "outputId": "39a63758-05db-48af-bbce-096aa4aa1898"
      },
      "execution_count": 20,
      "outputs": [
        {
          "output_type": "stream",
          "name": "stderr",
          "text": [
            "WARNING:tensorflow:Model was constructed with shape (None, 10) for input KerasTensor(type_spec=TensorSpec(shape=(None, 10), dtype=tf.float32, name='embedding_1_input'), name='embedding_1_input', description=\"created by layer 'embedding_1_input'\"), but it was called on an input with incompatible shape (None,).\n"
          ]
        },
        {
          "output_type": "stream",
          "name": "stdout",
          "text": [
            "1/1 [==============================] - 0s 84ms/step\n"
          ]
        },
        {
          "output_type": "execute_result",
          "data": {
            "text/plain": [
              "array([[-0.02178626, -0.04447852, -0.04430599, -0.0412912 , -0.03790152,\n",
              "         0.04866621,  0.01314322, -0.04784761, -0.04765183,  0.0291011 ],\n",
              "       [-0.02178626, -0.04447852, -0.04430599, -0.0412912 , -0.03790152,\n",
              "         0.04866621,  0.01314322, -0.04784761, -0.04765183,  0.0291011 ],\n",
              "       [-0.02178626, -0.04447852, -0.04430599, -0.0412912 , -0.03790152,\n",
              "         0.04866621,  0.01314322, -0.04784761, -0.04765183,  0.0291011 ],\n",
              "       [-0.02178626, -0.04447852, -0.04430599, -0.0412912 , -0.03790152,\n",
              "         0.04866621,  0.01314322, -0.04784761, -0.04765183,  0.0291011 ],\n",
              "       [-0.02178626, -0.04447852, -0.04430599, -0.0412912 , -0.03790152,\n",
              "         0.04866621,  0.01314322, -0.04784761, -0.04765183,  0.0291011 ],\n",
              "       [-0.02178626, -0.04447852, -0.04430599, -0.0412912 , -0.03790152,\n",
              "         0.04866621,  0.01314322, -0.04784761, -0.04765183,  0.0291011 ],\n",
              "       [ 0.02195481,  0.03900411,  0.0042785 ,  0.02788064, -0.04553607,\n",
              "         0.04562937,  0.0378674 , -0.01217673,  0.02843423, -0.00164272],\n",
              "       [-0.04711721, -0.01553639,  0.00209556,  0.04010082,  0.03208646,\n",
              "        -0.02531583, -0.02448711,  0.0138602 , -0.042836  ,  0.03140687],\n",
              "       [-0.02639971,  0.0423872 , -0.03169812, -0.04983601, -0.03052552,\n",
              "        -0.01147272, -0.00210055, -0.03833867,  0.00811132,  0.02539356],\n",
              "       [ 0.03600055,  0.02381519, -0.00488458, -0.0001343 ,  0.01129758,\n",
              "         0.00822137,  0.0382317 , -0.00977081, -0.03898465,  0.04120201]],\n",
              "      dtype=float32)"
            ]
          },
          "metadata": {},
          "execution_count": 20
        }
      ]
    },
    {
      "cell_type": "markdown",
      "source": [
        "#### Example-2"
      ],
      "metadata": {
        "id": "RqnPmjKXucL5"
      }
    },
    {
      "cell_type": "code",
      "source": [
        "### Assignment\n",
        "\n",
        "sent=[\"The world is a better place\",\n",
        "      \"Marvel series is my favourite movie\",\n",
        "      \"I like DC movies\",\n",
        "      \"the cat is eating the food\",\n",
        "      \"Tom and Jerry is my favourite movie\",\n",
        "      \"Python is my favourite programming language\"\n",
        "      ]"
      ],
      "metadata": {
        "id": "AFEf0LC3sSPN"
      },
      "execution_count": 21,
      "outputs": []
    },
    {
      "cell_type": "markdown",
      "source": [
        "#### One-Hot encoding"
      ],
      "metadata": {
        "id": "bgnO5D3Kx5E8"
      }
    },
    {
      "cell_type": "code",
      "source": [
        "vocab_size = 500\n",
        "one_hot_repr = [one_hot(input_text=doc, n=vocab_size) for doc in sent]\n",
        "one_hot_repr"
      ],
      "metadata": {
        "colab": {
          "base_uri": "https://localhost:8080/"
        },
        "id": "uft8B4V-ugx0",
        "outputId": "c9f09d52-7b6d-4d59-c355-71b5021d11f2"
      },
      "execution_count": 31,
      "outputs": [
        {
          "output_type": "execute_result",
          "data": {
            "text/plain": [
              "[[14, 67, 169, 74, 7, 258],\n",
              " [116, 285, 169, 413, 499, 144],\n",
              " [94, 474, 452, 363],\n",
              " [14, 494, 169, 209, 14, 127],\n",
              " [278, 185, 301, 169, 413, 499, 144],\n",
              " [454, 169, 413, 499, 163, 89]]"
            ]
          },
          "metadata": {},
          "execution_count": 31
        }
      ]
    },
    {
      "cell_type": "markdown",
      "source": [
        "#### Pre-padding"
      ],
      "metadata": {
        "id": "Su-v0TLCx7nn"
      }
    },
    {
      "cell_type": "code",
      "source": [
        "sent_length = 10\n",
        "padded_docs = pad_sequences(one_hot_repr, maxlen=sent_length, padding='pre')\n",
        "padded_docs"
      ],
      "metadata": {
        "colab": {
          "base_uri": "https://localhost:8080/"
        },
        "id": "RypO0-9Rug9y",
        "outputId": "848cdde8-40fe-42d4-9a81-d4f35bc37e50"
      },
      "execution_count": 34,
      "outputs": [
        {
          "output_type": "execute_result",
          "data": {
            "text/plain": [
              "array([[  0,   0,   0,   0,  14,  67, 169,  74,   7, 258],\n",
              "       [  0,   0,   0,   0, 116, 285, 169, 413, 499, 144],\n",
              "       [  0,   0,   0,   0,   0,   0,  94, 474, 452, 363],\n",
              "       [  0,   0,   0,   0,  14, 494, 169, 209,  14, 127],\n",
              "       [  0,   0,   0, 278, 185, 301, 169, 413, 499, 144],\n",
              "       [  0,   0,   0,   0, 454, 169, 413, 499, 163,  89]], dtype=int32)"
            ]
          },
          "metadata": {},
          "execution_count": 34
        }
      ]
    },
    {
      "cell_type": "markdown",
      "source": [
        "#### Embedding layer representation"
      ],
      "metadata": {
        "id": "PYAAFQQjyj2d"
      }
    },
    {
      "cell_type": "code",
      "source": [
        "model = Sequential()\n",
        "model.add(Embedding(input_dim=vocab_size, output_dim=20, input_length=sent_length))\n",
        "model.compile('adam', 'mse')"
      ],
      "metadata": {
        "id": "21cSHETuuhAU"
      },
      "execution_count": 36,
      "outputs": []
    },
    {
      "cell_type": "code",
      "source": [
        "padded_docs[0]"
      ],
      "metadata": {
        "colab": {
          "base_uri": "https://localhost:8080/"
        },
        "id": "eVZ5hpsqyOK7",
        "outputId": "e2273549-45c6-4905-eb51-6ef276281c6f"
      },
      "execution_count": 37,
      "outputs": [
        {
          "output_type": "execute_result",
          "data": {
            "text/plain": [
              "array([  0,   0,   0,   0,  14,  67, 169,  74,   7, 258], dtype=int32)"
            ]
          },
          "metadata": {},
          "execution_count": 37
        }
      ]
    },
    {
      "cell_type": "code",
      "source": [
        "model.predict(padded_docs[0])"
      ],
      "metadata": {
        "colab": {
          "base_uri": "https://localhost:8080/"
        },
        "id": "oV8mEcKryOM6",
        "outputId": "09d1a99d-32df-489b-ef62-e0dee5fa2dfa"
      },
      "execution_count": 40,
      "outputs": [
        {
          "output_type": "stream",
          "name": "stdout",
          "text": [
            "1/1 [==============================] - 0s 20ms/step\n"
          ]
        },
        {
          "output_type": "execute_result",
          "data": {
            "text/plain": [
              "array([[-0.0273088 , -0.03328081,  0.02821061,  0.00929148, -0.02727257,\n",
              "        -0.03545044, -0.03509932, -0.04069757,  0.02429706, -0.01433082,\n",
              "         0.02211881, -0.03901112, -0.04952569, -0.01862989,  0.01064403,\n",
              "        -0.00631316, -0.01467409, -0.00314237, -0.01295899,  0.01379449],\n",
              "       [-0.0273088 , -0.03328081,  0.02821061,  0.00929148, -0.02727257,\n",
              "        -0.03545044, -0.03509932, -0.04069757,  0.02429706, -0.01433082,\n",
              "         0.02211881, -0.03901112, -0.04952569, -0.01862989,  0.01064403,\n",
              "        -0.00631316, -0.01467409, -0.00314237, -0.01295899,  0.01379449],\n",
              "       [-0.0273088 , -0.03328081,  0.02821061,  0.00929148, -0.02727257,\n",
              "        -0.03545044, -0.03509932, -0.04069757,  0.02429706, -0.01433082,\n",
              "         0.02211881, -0.03901112, -0.04952569, -0.01862989,  0.01064403,\n",
              "        -0.00631316, -0.01467409, -0.00314237, -0.01295899,  0.01379449],\n",
              "       [-0.0273088 , -0.03328081,  0.02821061,  0.00929148, -0.02727257,\n",
              "        -0.03545044, -0.03509932, -0.04069757,  0.02429706, -0.01433082,\n",
              "         0.02211881, -0.03901112, -0.04952569, -0.01862989,  0.01064403,\n",
              "        -0.00631316, -0.01467409, -0.00314237, -0.01295899,  0.01379449],\n",
              "       [ 0.03820341, -0.01986858, -0.00329638, -0.0236321 ,  0.01380597,\n",
              "         0.03821161, -0.02988393, -0.04918759,  0.00717343, -0.03693608,\n",
              "        -0.02574103, -0.01833367,  0.01180292,  0.00381954, -0.04494479,\n",
              "        -0.00325773, -0.00785432,  0.02558799,  0.01178702,  0.02336962],\n",
              "       [ 0.01978253, -0.03791042,  0.01182527, -0.01446671, -0.0272802 ,\n",
              "        -0.00124918, -0.02311103,  0.01511801, -0.02107468,  0.01045094,\n",
              "         0.0308193 , -0.01614345,  0.00250958,  0.03438843, -0.01008792,\n",
              "        -0.02757077, -0.03602739, -0.00746117,  0.04706028, -0.01115439],\n",
              "       [-0.0291913 , -0.00830128, -0.04299843, -0.04040592, -0.00916944,\n",
              "         0.00491827,  0.02608072,  0.04170083,  0.03440856, -0.04085713,\n",
              "        -0.04054412, -0.02969362, -0.01249412,  0.02351062,  0.01892488,\n",
              "         0.01713238,  0.0144721 ,  0.04826038, -0.04032071, -0.00342603],\n",
              "       [ 0.04992204, -0.01776584, -0.02850113, -0.00431409,  0.0059818 ,\n",
              "         0.02103797, -0.00717441, -0.02170986,  0.00908722, -0.02474651,\n",
              "        -0.03056704, -0.02954532, -0.04732646, -0.04496267, -0.04350779,\n",
              "         0.01095057, -0.02997851, -0.01871879,  0.01865888, -0.02293042],\n",
              "       [-0.03961588, -0.01297574, -0.04896445, -0.00619026,  0.04755704,\n",
              "        -0.0268779 , -0.04185522,  0.03441229,  0.04664079, -0.03973125,\n",
              "         0.04480276, -0.03175839,  0.03601295,  0.00454009,  0.00943587,\n",
              "        -0.02163657,  0.03898675,  0.00146554, -0.01997445, -0.02224585],\n",
              "       [ 0.03688833, -0.01669767,  0.0351257 ,  0.01745007, -0.03842715,\n",
              "         0.01123513, -0.00771755, -0.04019878, -0.03332975,  0.04442534,\n",
              "         0.02329261, -0.02141851,  0.01057817, -0.03521516, -0.03899988,\n",
              "        -0.04394824, -0.03587209, -0.04139031, -0.04864978,  0.04332764]],\n",
              "      dtype=float32)"
            ]
          },
          "metadata": {},
          "execution_count": 40
        }
      ]
    },
    {
      "cell_type": "code",
      "source": [
        "model.predict(padded_docs[1])"
      ],
      "metadata": {
        "colab": {
          "base_uri": "https://localhost:8080/"
        },
        "id": "0s0MeTL0uhCb",
        "outputId": "0c7e4492-d086-4eb5-f192-46debf9d0564"
      },
      "execution_count": 41,
      "outputs": [
        {
          "output_type": "stream",
          "name": "stdout",
          "text": [
            "1/1 [==============================] - 0s 22ms/step\n"
          ]
        },
        {
          "output_type": "execute_result",
          "data": {
            "text/plain": [
              "array([[-0.0273088 , -0.03328081,  0.02821061,  0.00929148, -0.02727257,\n",
              "        -0.03545044, -0.03509932, -0.04069757,  0.02429706, -0.01433082,\n",
              "         0.02211881, -0.03901112, -0.04952569, -0.01862989,  0.01064403,\n",
              "        -0.00631316, -0.01467409, -0.00314237, -0.01295899,  0.01379449],\n",
              "       [-0.0273088 , -0.03328081,  0.02821061,  0.00929148, -0.02727257,\n",
              "        -0.03545044, -0.03509932, -0.04069757,  0.02429706, -0.01433082,\n",
              "         0.02211881, -0.03901112, -0.04952569, -0.01862989,  0.01064403,\n",
              "        -0.00631316, -0.01467409, -0.00314237, -0.01295899,  0.01379449],\n",
              "       [-0.0273088 , -0.03328081,  0.02821061,  0.00929148, -0.02727257,\n",
              "        -0.03545044, -0.03509932, -0.04069757,  0.02429706, -0.01433082,\n",
              "         0.02211881, -0.03901112, -0.04952569, -0.01862989,  0.01064403,\n",
              "        -0.00631316, -0.01467409, -0.00314237, -0.01295899,  0.01379449],\n",
              "       [-0.0273088 , -0.03328081,  0.02821061,  0.00929148, -0.02727257,\n",
              "        -0.03545044, -0.03509932, -0.04069757,  0.02429706, -0.01433082,\n",
              "         0.02211881, -0.03901112, -0.04952569, -0.01862989,  0.01064403,\n",
              "        -0.00631316, -0.01467409, -0.00314237, -0.01295899,  0.01379449],\n",
              "       [ 0.01238596,  0.0151603 , -0.03782428, -0.01190208, -0.0149995 ,\n",
              "         0.03770195,  0.0362164 , -0.01100997,  0.03660599,  0.00693194,\n",
              "        -0.00072097, -0.03644437,  0.04094659,  0.03894151,  0.02619003,\n",
              "        -0.0052995 , -0.01972016,  0.03917334, -0.01928612, -0.03538438],\n",
              "       [-0.03546288,  0.00627935, -0.04522561,  0.00235645, -0.04650829,\n",
              "         0.00122765,  0.03085012,  0.01925612,  0.0326803 , -0.01462823,\n",
              "        -0.04328132,  0.04266128,  0.00907182, -0.00650972, -0.01867948,\n",
              "         0.01536094,  0.02584311, -0.02991253, -0.03805916, -0.04244491],\n",
              "       [-0.0291913 , -0.00830128, -0.04299843, -0.04040592, -0.00916944,\n",
              "         0.00491827,  0.02608072,  0.04170083,  0.03440856, -0.04085713,\n",
              "        -0.04054412, -0.02969362, -0.01249412,  0.02351062,  0.01892488,\n",
              "         0.01713238,  0.0144721 ,  0.04826038, -0.04032071, -0.00342603],\n",
              "       [ 0.03396109,  0.02452551,  0.00740499,  0.03671903, -0.00557083,\n",
              "         0.00418616,  0.01862251, -0.01292096, -0.03060895,  0.04681457,\n",
              "         0.00369273,  0.04251694, -0.01610837, -0.03657324,  0.00858982,\n",
              "        -0.03054366,  0.01433525,  0.04666403, -0.03539276,  0.01322868],\n",
              "       [ 0.02177346,  0.01392436, -0.01322333,  0.01956413,  0.02745105,\n",
              "         0.02041182, -0.01341597, -0.00459582,  0.01055717,  0.04446944,\n",
              "        -0.0319113 ,  0.04619794, -0.00588167,  0.0428574 ,  0.04731346,\n",
              "         0.0061545 ,  0.03637071, -0.03244653,  0.02034127,  0.04123845],\n",
              "       [-0.02979147,  0.0121012 ,  0.01683203, -0.01722387,  0.01829071,\n",
              "         0.03444806, -0.02765247,  0.04658023,  0.00380436, -0.03706568,\n",
              "         0.01440406,  0.03345034, -0.01221188,  0.02316661, -0.01485362,\n",
              "        -0.02354085, -0.00255681, -0.01292982, -0.01503404,  0.02542358]],\n",
              "      dtype=float32)"
            ]
          },
          "metadata": {},
          "execution_count": 41
        }
      ]
    },
    {
      "cell_type": "code",
      "source": [],
      "metadata": {
        "id": "Q63kiNeB0Ob9"
      },
      "execution_count": null,
      "outputs": []
    },
    {
      "cell_type": "code",
      "source": [],
      "metadata": {
        "id": "7Eh9q4Wryzg_"
      },
      "execution_count": null,
      "outputs": []
    }
  ]
}